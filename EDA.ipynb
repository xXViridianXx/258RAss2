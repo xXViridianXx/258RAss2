{
 "cells": [
  {
   "cell_type": "code",
   "execution_count": 2,
   "metadata": {},
   "outputs": [],
   "source": [
    "import pandas as pd\n"
   ]
  },
  {
   "cell_type": "code",
   "execution_count": 3,
   "metadata": {},
   "outputs": [
    {
     "data": {
      "text/html": [
       "<div>\n",
       "<style scoped>\n",
       "    .dataframe tbody tr th:only-of-type {\n",
       "        vertical-align: middle;\n",
       "    }\n",
       "\n",
       "    .dataframe tbody tr th {\n",
       "        vertical-align: top;\n",
       "    }\n",
       "\n",
       "    .dataframe thead th {\n",
       "        text-align: right;\n",
       "    }\n",
       "</style>\n",
       "<table border=\"1\" class=\"dataframe\">\n",
       "  <thead>\n",
       "    <tr style=\"text-align: right;\">\n",
       "      <th></th>\n",
       "      <th>Gene A Sequence</th>\n",
       "      <th>Gene B Sequence</th>\n",
       "      <th>Interaction Type</th>\n",
       "      <th>Detection Method</th>\n",
       "    </tr>\n",
       "  </thead>\n",
       "  <tbody>\n",
       "    <tr>\n",
       "      <th>0</th>\n",
       "      <td>MQRLKKFIAKREKGDKGKMKWNSSMDYDSPPSYQDVRRGIFPTAPL...</td>\n",
       "      <td>MSSTLAKIAEIEAEMARTQKNKATAHHLGLLKARLAKLRRELITPK...</td>\n",
       "      <td>Physical association</td>\n",
       "      <td>Two hybrid</td>\n",
       "    </tr>\n",
       "    <tr>\n",
       "      <th>1</th>\n",
       "      <td>MQRLKKFIAKREKGDKGKMKWNSSMDYDSPPSYQDVRRGIFPTAPL...</td>\n",
       "      <td>MSSTLAKIAEIEAEMARTQKNKATAHHLGLLKARLAKLRRELITPK...</td>\n",
       "      <td>Physical association</td>\n",
       "      <td>Pull down</td>\n",
       "    </tr>\n",
       "    <tr>\n",
       "      <th>2</th>\n",
       "      <td>MQRLKKFIAKREKGDKGKMKWNSSMDYDSPPSYQDVRRGIFPTAPL...</td>\n",
       "      <td>MSSTLAKIAEIEAEMARTQKNKATAHHLGLLKARLAKLRRELITPK...</td>\n",
       "      <td>Physical association</td>\n",
       "      <td>Enzyme linked immunosorbent assay</td>\n",
       "    </tr>\n",
       "    <tr>\n",
       "      <th>3</th>\n",
       "      <td>MSSTLAKIAEIEAEMARTQKNKATAHHLGLLKARLAKLRRELITPK...</td>\n",
       "      <td>MSSTLAKIAEIEAEMARTQKNKATAHHLGLLKARLAKLRRELITPK...</td>\n",
       "      <td>Direct interaction</td>\n",
       "      <td>Molecular sieving</td>\n",
       "    </tr>\n",
       "    <tr>\n",
       "      <th>4</th>\n",
       "      <td>MTAKMETTFYDDALNASFLPSESGPYGYSNPKILKQSMTLNLADPV...</td>\n",
       "      <td>MSSTLAKIAEIEAEMARTQKNKATAHHLGLLKARLAKLRRELITPK...</td>\n",
       "      <td>Association</td>\n",
       "      <td>Anti bait coimmunoprecipitation</td>\n",
       "    </tr>\n",
       "    <tr>\n",
       "      <th>5</th>\n",
       "      <td>MSSTLAKIAEIEAEMARTQKNKATAHHLGLLKARLAKLRRELITPK...</td>\n",
       "      <td>MPPKKQAQAGGSKKAEQKKKEKIIEDKTFGLKNKKGAKQQKFIKAV...</td>\n",
       "      <td>Physical association</td>\n",
       "      <td>Two hybrid</td>\n",
       "    </tr>\n",
       "    <tr>\n",
       "      <th>6</th>\n",
       "      <td>MSSTLAKIAEIEAEMARTQKNKATAHHLGLLKARLAKLRRELITPK...</td>\n",
       "      <td>MQRSPLEKASVVSKLFFSWTRPILRKGYRQRLELSDIYQIPSVDSA...</td>\n",
       "      <td>Physical association</td>\n",
       "      <td>Ubiquitin reconstruction</td>\n",
       "    </tr>\n",
       "    <tr>\n",
       "      <th>7</th>\n",
       "      <td>MPRIMIKGGVWRNTEDEILKAAVMKYGKNQWSRIASLLHRKSAKQC...</td>\n",
       "      <td>MSSTLAKIAEIEAEMARTQKNKATAHHLGLLKARLAKLRRELITPK...</td>\n",
       "      <td>Association</td>\n",
       "      <td>Anti bait coimmunoprecipitation</td>\n",
       "    </tr>\n",
       "    <tr>\n",
       "      <th>8</th>\n",
       "      <td>MPPKKQAQAGGSKKAEQKKKEKIIEDKTFGLKNKKGAKQQKFIKAV...</td>\n",
       "      <td>MSSTLAKIAEIEAEMARTQKNKATAHHLGLLKARLAKLRRELITPK...</td>\n",
       "      <td>Physical association</td>\n",
       "      <td>Two hybrid</td>\n",
       "    </tr>\n",
       "    <tr>\n",
       "      <th>9</th>\n",
       "      <td>MENELPVPHTSSSACATSSTSGASSSSGCNNSSSGGSGRPTGPQIS...</td>\n",
       "      <td>MSSTLAKIAEIEAEMARTQKNKATAHHLGLLKARLAKLRRELITPK...</td>\n",
       "      <td>Physical association</td>\n",
       "      <td>Two hybrid</td>\n",
       "    </tr>\n",
       "    <tr>\n",
       "      <th>10</th>\n",
       "      <td>MALTSFLPAPTQLSQDQLEAEEKARSQRSRQTSLVSSRREPPPYGY...</td>\n",
       "      <td>MSSTLAKIAEIEAEMARTQKNKATAHHLGLLKARLAKLRRELITPK...</td>\n",
       "      <td>Association</td>\n",
       "      <td>Anti bait coimmunoprecipitation</td>\n",
       "    </tr>\n",
       "    <tr>\n",
       "      <th>11</th>\n",
       "      <td>MEEPQSDPSVEPPLSQETFSDLWKLLPENNVLSPLPSQAMDDLMLS...</td>\n",
       "      <td>MSSTLAKIAEIEAEMARTQKNKATAHHLGLLKARLAKLRRELITPK...</td>\n",
       "      <td>Association</td>\n",
       "      <td>Anti tag coimmunoprecipitation</td>\n",
       "    </tr>\n",
       "    <tr>\n",
       "      <th>12</th>\n",
       "      <td>MTEYKLVVVGAGGVGKSALTIQLIQNHFVDEYDPTIEDSYRKQVVI...</td>\n",
       "      <td>MSSTLAKIAEIEAEMARTQKNKATAHHLGLLKARLAKLRRELITPK...</td>\n",
       "      <td>Proximity</td>\n",
       "      <td>Proximity-dependent biotin identification</td>\n",
       "    </tr>\n",
       "    <tr>\n",
       "      <th>13</th>\n",
       "      <td>MTEYKLVVVGAGGVGKSALTIQLIQNHFVDEYDPTIEDSYRKQVVI...</td>\n",
       "      <td>MSSTLAKIAEIEAEMARTQKNKATAHHLGLLKARLAKLRRELITPK...</td>\n",
       "      <td>Proximity</td>\n",
       "      <td>Proximity-dependent biotin identification</td>\n",
       "    </tr>\n",
       "    <tr>\n",
       "      <th>14</th>\n",
       "      <td>MTEYKLVVVGAGGVGKSALTIQLIQNHFVDEYDPTIEDSYRKQVVI...</td>\n",
       "      <td>MSSTLAKIAEIEAEMARTQKNKATAHHLGLLKARLAKLRRELITPK...</td>\n",
       "      <td>Proximity</td>\n",
       "      <td>Proximity-dependent biotin identification</td>\n",
       "    </tr>\n",
       "    <tr>\n",
       "      <th>15</th>\n",
       "      <td>MPAENSPAPAYKVSSHGGDSGLDGLGGPGVQLGSPDKKKRKANTQG...</td>\n",
       "      <td>MLFHSLSGPEVHGVIDEMDRRAKSEAPAISSAIDRGDTETTMPSIS...</td>\n",
       "      <td>Association</td>\n",
       "      <td>Tandem affinity purification</td>\n",
       "    </tr>\n",
       "    <tr>\n",
       "      <th>16</th>\n",
       "      <td>MAENLLDGPPNPKRAKLSSPGFSANDNTDFGSLFDLENDLPDELIP...</td>\n",
       "      <td>MAHSCRWRFPARPGTTGGGGGGGRRGLGGAPRQRVPALLLPPGPPV...</td>\n",
       "      <td>Direct interaction</td>\n",
       "      <td>Isothermal titration calorimetry</td>\n",
       "    </tr>\n",
       "    <tr>\n",
       "      <th>17</th>\n",
       "      <td>MAENLLDGPPNPKRAKLSSPGFSANDNTDFGSLFDLENDLPDELIP...</td>\n",
       "      <td>MAHSCRWRFPARPGTTGGGGGGGRRGLGGAPRQRVPALLLPPGPPV...</td>\n",
       "      <td>Direct interaction</td>\n",
       "      <td>Nuclear magnetic resonance</td>\n",
       "    </tr>\n",
       "    <tr>\n",
       "      <th>18</th>\n",
       "      <td>MAHSCRWRFPARPGTTGGGGGGGRRGLGGAPRQRVPALLLPPGPPV...</td>\n",
       "      <td>MAENLLDGPPNPKRAKLSSPGFSANDNTDFGSLFDLENDLPDELIP...</td>\n",
       "      <td>Direct interaction</td>\n",
       "      <td>Isothermal titration calorimetry</td>\n",
       "    </tr>\n",
       "    <tr>\n",
       "      <th>19</th>\n",
       "      <td>MEVQLGLGRVYPRPPSKTYRGAFQNLFQSVREVIQNPGPRHPEAAS...</td>\n",
       "      <td>MAHSCRWRFPARPGTTGGGGGGGRRGLGGAPRQRVPALLLPPGPPV...</td>\n",
       "      <td>Proximity</td>\n",
       "      <td>Proximity-dependent biotin identification</td>\n",
       "    </tr>\n",
       "  </tbody>\n",
       "</table>\n",
       "</div>"
      ],
      "text/plain": [
       "                                      Gene A Sequence  \\\n",
       "0   MQRLKKFIAKREKGDKGKMKWNSSMDYDSPPSYQDVRRGIFPTAPL...   \n",
       "1   MQRLKKFIAKREKGDKGKMKWNSSMDYDSPPSYQDVRRGIFPTAPL...   \n",
       "2   MQRLKKFIAKREKGDKGKMKWNSSMDYDSPPSYQDVRRGIFPTAPL...   \n",
       "3   MSSTLAKIAEIEAEMARTQKNKATAHHLGLLKARLAKLRRELITPK...   \n",
       "4   MTAKMETTFYDDALNASFLPSESGPYGYSNPKILKQSMTLNLADPV...   \n",
       "5   MSSTLAKIAEIEAEMARTQKNKATAHHLGLLKARLAKLRRELITPK...   \n",
       "6   MSSTLAKIAEIEAEMARTQKNKATAHHLGLLKARLAKLRRELITPK...   \n",
       "7   MPRIMIKGGVWRNTEDEILKAAVMKYGKNQWSRIASLLHRKSAKQC...   \n",
       "8   MPPKKQAQAGGSKKAEQKKKEKIIEDKTFGLKNKKGAKQQKFIKAV...   \n",
       "9   MENELPVPHTSSSACATSSTSGASSSSGCNNSSSGGSGRPTGPQIS...   \n",
       "10  MALTSFLPAPTQLSQDQLEAEEKARSQRSRQTSLVSSRREPPPYGY...   \n",
       "11  MEEPQSDPSVEPPLSQETFSDLWKLLPENNVLSPLPSQAMDDLMLS...   \n",
       "12  MTEYKLVVVGAGGVGKSALTIQLIQNHFVDEYDPTIEDSYRKQVVI...   \n",
       "13  MTEYKLVVVGAGGVGKSALTIQLIQNHFVDEYDPTIEDSYRKQVVI...   \n",
       "14  MTEYKLVVVGAGGVGKSALTIQLIQNHFVDEYDPTIEDSYRKQVVI...   \n",
       "15  MPAENSPAPAYKVSSHGGDSGLDGLGGPGVQLGSPDKKKRKANTQG...   \n",
       "16  MAENLLDGPPNPKRAKLSSPGFSANDNTDFGSLFDLENDLPDELIP...   \n",
       "17  MAENLLDGPPNPKRAKLSSPGFSANDNTDFGSLFDLENDLPDELIP...   \n",
       "18  MAHSCRWRFPARPGTTGGGGGGGRRGLGGAPRQRVPALLLPPGPPV...   \n",
       "19  MEVQLGLGRVYPRPPSKTYRGAFQNLFQSVREVIQNPGPRHPEAAS...   \n",
       "\n",
       "                                      Gene B Sequence      Interaction Type  \\\n",
       "0   MSSTLAKIAEIEAEMARTQKNKATAHHLGLLKARLAKLRRELITPK...  Physical association   \n",
       "1   MSSTLAKIAEIEAEMARTQKNKATAHHLGLLKARLAKLRRELITPK...  Physical association   \n",
       "2   MSSTLAKIAEIEAEMARTQKNKATAHHLGLLKARLAKLRRELITPK...  Physical association   \n",
       "3   MSSTLAKIAEIEAEMARTQKNKATAHHLGLLKARLAKLRRELITPK...    Direct interaction   \n",
       "4   MSSTLAKIAEIEAEMARTQKNKATAHHLGLLKARLAKLRRELITPK...           Association   \n",
       "5   MPPKKQAQAGGSKKAEQKKKEKIIEDKTFGLKNKKGAKQQKFIKAV...  Physical association   \n",
       "6   MQRSPLEKASVVSKLFFSWTRPILRKGYRQRLELSDIYQIPSVDSA...  Physical association   \n",
       "7   MSSTLAKIAEIEAEMARTQKNKATAHHLGLLKARLAKLRRELITPK...           Association   \n",
       "8   MSSTLAKIAEIEAEMARTQKNKATAHHLGLLKARLAKLRRELITPK...  Physical association   \n",
       "9   MSSTLAKIAEIEAEMARTQKNKATAHHLGLLKARLAKLRRELITPK...  Physical association   \n",
       "10  MSSTLAKIAEIEAEMARTQKNKATAHHLGLLKARLAKLRRELITPK...           Association   \n",
       "11  MSSTLAKIAEIEAEMARTQKNKATAHHLGLLKARLAKLRRELITPK...           Association   \n",
       "12  MSSTLAKIAEIEAEMARTQKNKATAHHLGLLKARLAKLRRELITPK...             Proximity   \n",
       "13  MSSTLAKIAEIEAEMARTQKNKATAHHLGLLKARLAKLRRELITPK...             Proximity   \n",
       "14  MSSTLAKIAEIEAEMARTQKNKATAHHLGLLKARLAKLRRELITPK...             Proximity   \n",
       "15  MLFHSLSGPEVHGVIDEMDRRAKSEAPAISSAIDRGDTETTMPSIS...           Association   \n",
       "16  MAHSCRWRFPARPGTTGGGGGGGRRGLGGAPRQRVPALLLPPGPPV...    Direct interaction   \n",
       "17  MAHSCRWRFPARPGTTGGGGGGGRRGLGGAPRQRVPALLLPPGPPV...    Direct interaction   \n",
       "18  MAENLLDGPPNPKRAKLSSPGFSANDNTDFGSLFDLENDLPDELIP...    Direct interaction   \n",
       "19  MAHSCRWRFPARPGTTGGGGGGGRRGLGGAPRQRVPALLLPPGPPV...             Proximity   \n",
       "\n",
       "                             Detection Method  \n",
       "0                                  Two hybrid  \n",
       "1                                   Pull down  \n",
       "2           Enzyme linked immunosorbent assay  \n",
       "3                           Molecular sieving  \n",
       "4             Anti bait coimmunoprecipitation  \n",
       "5                                  Two hybrid  \n",
       "6                    Ubiquitin reconstruction  \n",
       "7             Anti bait coimmunoprecipitation  \n",
       "8                                  Two hybrid  \n",
       "9                                  Two hybrid  \n",
       "10            Anti bait coimmunoprecipitation  \n",
       "11             Anti tag coimmunoprecipitation  \n",
       "12  Proximity-dependent biotin identification  \n",
       "13  Proximity-dependent biotin identification  \n",
       "14  Proximity-dependent biotin identification  \n",
       "15               Tandem affinity purification  \n",
       "16           Isothermal titration calorimetry  \n",
       "17                 Nuclear magnetic resonance  \n",
       "18           Isothermal titration calorimetry  \n",
       "19  Proximity-dependent biotin identification  "
      ]
     },
     "execution_count": 3,
     "metadata": {},
     "output_type": "execute_result"
    }
   ],
   "source": [
    "df = pd.read_csv('protein_data.csv')\n",
    "df.drop('Unnamed: 0', axis=1, inplace=True)\n",
    "df.head(20)"
   ]
  },
  {
   "cell_type": "code",
   "execution_count": 4,
   "metadata": {},
   "outputs": [
    {
     "data": {
      "text/plain": [
       "(100947, 4)"
      ]
     },
     "execution_count": 4,
     "metadata": {},
     "output_type": "execute_result"
    }
   ],
   "source": [
    "df.shape"
   ]
  },
  {
   "cell_type": "code",
   "execution_count": 5,
   "metadata": {},
   "outputs": [
    {
     "data": {
      "text/plain": [
       "'MQRLKKFIAKREKGDKGKMKWNSSMDYDSPPSYQDVRRGIFPTAPLFGMEDDMMEFTPSLGIQTLKLQYKCVVNINAINPFRDFREAISAMQFWEADYSGYIGKKPFYRAIILHTARQLKTSNPGILDRGVVEYHATTQGRALVFHSLGPSPSMMFVPETFTREWNILTNKGTINVKIWLGETDTLSELEPILNPVNFRDDREMIEGAAIMGLEIKKQKDNTWLISKSH'"
      ]
     },
     "execution_count": 5,
     "metadata": {},
     "output_type": "execute_result"
    }
   ],
   "source": [
    "df[\"Gene A Sequence\"][0]"
   ]
  },
  {
   "cell_type": "code",
   "execution_count": 6,
   "metadata": {},
   "outputs": [],
   "source": [
    "def uniqueValues(label, values):\n",
    "    print(f\"{label} has {values} unique values\")"
   ]
  },
  {
   "cell_type": "code",
   "execution_count": 7,
   "metadata": {},
   "outputs": [],
   "source": [
    "uniqueGenASequences = len(df[\"Gene A Sequence\"].unique())\n",
    "uniqueGenBSequences = len(df[\"Gene B Sequence\"].unique())\n",
    "uniqueInteractionTypes = len(df[\"Interaction Type\"].unique())\n",
    "uniqueDetectionMethods = len(df[\"Detection Method\"].unique())"
   ]
  },
  {
   "cell_type": "code",
   "execution_count": 8,
   "metadata": {},
   "outputs": [
    {
     "name": "stdout",
     "output_type": "stream",
     "text": [
      "Gene A Sequence has 14372 unique values\n",
      "Gene B Sequence has 22030 unique values\n",
      "Interaction Type has 29 unique values\n",
      "Detection Method has 122 unique values\n"
     ]
    }
   ],
   "source": [
    "uniqueValues(\"Gene A Sequence\", uniqueGenASequences)\n",
    "uniqueValues(\"Gene B Sequence\", uniqueGenBSequences)\n",
    "uniqueValues(\"Interaction Type\", uniqueInteractionTypes)\n",
    "uniqueValues(\"Detection Method\", uniqueDetectionMethods)"
   ]
  },
  {
   "cell_type": "code",
   "execution_count": 9,
   "metadata": {},
   "outputs": [],
   "source": [
    "import matplotlib.pyplot as plt\n",
    "def plotHistogram(column, bins, xlabel, ylabel, title):\n",
    "    \n",
    "    interactionTypes = df[column]\n",
    "\n",
    "    plt.figure(figsize=(12, 6))\n",
    "\n",
    "    plt.hist(interactionTypes, bins=bins, color='skyblue', edgecolor='black')\n",
    "\n",
    "    plt.xlabel(xlabel, fontsize=12)\n",
    "    plt.ylabel(ylabel, fontsize=12)\n",
    "    plt.title(title, fontsize=14)\n",
    "\n",
    "    plt.xticks(rotation=45, ha='right', fontsize=10)\n",
    "\n",
    "    plt.tight_layout() #prevents overlapping\n",
    "    plt.show()"
   ]
  },
  {
   "cell_type": "code",
   "execution_count": 10,
   "metadata": {},
   "outputs": [
    {
     "data": {
      "image/png": "[encoded data removed]",
      "text/plain": [
       "<Figure size 864x432 with 1 Axes>"
      ]
     },
     "metadata": {
      "needs_background": "light"
     },
     "output_type": "display_data"
    }
   ],
   "source": [
    "plotHistogram('Interaction Type', uniqueInteractionTypes, 'Interaction Type', 'Frequency', 'Histogram of Interaction Types')"
   ]
  },
  {
   "cell_type": "code",
   "execution_count": 11,
   "metadata": {},
   "outputs": [],
   "source": [
    "def getAvgSequenceLength(newColumn, column):\n",
    "    df[newColumn] = df[column].str.len()\n",
    "    mean_length = df[newColumn].mean()\n",
    "    print(f\"AVG {newColumn} {mean_length}\")"
   ]
  },
  {
   "cell_type": "code",
   "execution_count": 12,
   "metadata": {},
   "outputs": [
    {
     "name": "stdout",
     "output_type": "stream",
     "text": [
      "AVG GeneA_Len 637.4976575427124\n",
      "AVG GeneB_Len 643.6462660867315\n"
     ]
    }
   ],
   "source": [
    "getAvgSequenceLength(\"GeneA_Len\", \"Gene A Sequence\")\n",
    "getAvgSequenceLength(\"GeneB_Len\", \"Gene B Sequence\")\n"
   ]
  },
  {
   "cell_type": "code",
   "execution_count": 13,
   "metadata": {},
   "outputs": [],
   "source": [
    "counts = {}\n",
    "mapping = {}\n",
    "\n",
    "for index, row in df.iterrows():\n",
    "    aSeq = row['Gene A Sequence']\n",
    "    bSeq = row['Gene B Sequence']\n",
    "\n",
    "    counts[aSeq] = counts.get(aSeq, 0) + 1\n",
    "    counts[bSeq] = counts.get(bSeq, 0) + 1\n",
    "\n",
    "    if aSeq in mapping:\n",
    "        mapping[aSeq].add(bSeq)\n",
    "    else:\n",
    "        mapping[aSeq] = {bSeq}\n",
    "\n",
    "    if bSeq in mapping:\n",
    "        mapping[bSeq].add(aSeq)\n",
    "    else:\n",
    "        mapping[bSeq] = {aSeq}"
   ]
  },
  {
   "cell_type": "code",
   "execution_count": 14,
   "metadata": {},
   "outputs": [
    {
     "ename": "ValueError",
     "evalue": "too many values to unpack (expected 3)",
     "output_type": "error",
     "traceback": [
      "\u001b[0;31m---------------------------------------------------------------------------\u001b[0m",
      "\u001b[0;31mValueError\u001b[0m                                Traceback (most recent call last)",
      "Input \u001b[0;32mIn [14]\u001b[0m, in \u001b[0;36m<cell line: 7>\u001b[0;34m()\u001b[0m\n\u001b[1;32m      5\u001b[0m \u001b[38;5;66;03m# itemIDs = {}\u001b[39;00m\n\u001b[1;32m      6\u001b[0m interactions \u001b[38;5;241m=\u001b[39m []\n\u001b[0;32m----> 7\u001b[0m \u001b[38;5;28;01mfor\u001b[39;00m user, book, rating \u001b[38;5;129;01min\u001b[39;00m df:\n\u001b[1;32m      8\u001b[0m     \u001b[38;5;28mprint\u001b[39m(user, book, rating)\n",
      "\u001b[0;31mValueError\u001b[0m: too many values to unpack (expected 3)"
     ]
    }
   ],
   "source": [
    "mapping = []\n",
    "for index, row in df.iterrows():\n",
    "    aSeq = row['Gene A Sequence']\n",
    "    bSeq = row['Gene B Sequence']\n",
    "    interactionType = row['Interaction Type']\n",
    "    detectionType = row['Detection Method']\n",
    "    \n",
    "    mapping.append((aSeq,bSeq,interactionType, detectionType))\n",
    "    \n"
   ]
  }
 ],
 "metadata": {
  "kernelspec": {
   "display_name": "Python 3",
   "language": "python",
   "name": "python3"
  },
  "language_info": {
   "codemirror_mode": {
    "name": "ipython",
    "version": 3
   },
   "file_extension": ".py",
   "mimetype": "text/x-python",
   "name": "python",
   "nbconvert_exporter": "python",
   "pygments_lexer": "ipython3",
   "version": "3.10.0"
  }
 },
 "nbformat": 4,
 "nbformat_minor": 2
}
