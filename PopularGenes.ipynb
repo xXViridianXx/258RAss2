{
 "cells": [
  {
   "cell_type": "code",
   "execution_count": 22,
   "metadata": {},
   "outputs": [],
   "source": [
    "import gzip\n",
    "from collections import defaultdict\n",
    "import math\n",
    "import scipy.optimize\n",
    "from sklearn import svm\n",
    "import numpy\n",
    "import string\n",
    "import random\n",
    "from sklearn import linear_model\n",
    "import pandas as pd\n",
    "import numpy as np\n",
    "from sklearn.metrics import mean_squared_error, confusion_matrix"
   ]
  },
  {
   "cell_type": "code",
   "execution_count": 23,
   "metadata": {},
   "outputs": [],
   "source": [
    "def readCSV(path):\n",
    "    with open(path, 'r') as f:\n",
    "        f.readline()\n",
    "        for l in f:\n",
    "            a, b, i = l.strip().split(',')\n",
    "            i = int(i)\n",
    "            yield a, b, i"
   ]
  },
  {
   "cell_type": "code",
   "execution_count": 24,
   "metadata": {},
   "outputs": [],
   "source": [
    "allRatings = []\n",
    "for l in readCSV(\"train.csv\"):\n",
    "    allRatings.append(l)"
   ]
  },
  {
   "cell_type": "code",
   "execution_count": 25,
   "metadata": {},
   "outputs": [],
   "source": [
    "geneCount = defaultdict(int)\n",
    "totalInteractions = 0\n",
    "for geneA, geneB, interaction in readCSV(\"train.csv\"):\n",
    "    if interaction == 0: continue\n",
    "    geneCount[geneA] += 1\n",
    "    geneCount[geneB] += 1\n",
    "    totalInteractions += 1\n",
    "\n",
    "mostPopular = [(geneCount[x], x) for x in geneCount]\n",
    "mostPopular.sort()\n",
    "mostPopular.reverse()\n",
    "\n",
    "return1 = set()\n",
    "count = 0\n",
    "for ic, i in mostPopular:\n",
    "    count += ic\n",
    "    return1.add(i)\n",
    "    if count > totalInteractions/2:\n",
    "        break"
   ]
  },
  {
   "cell_type": "code",
   "execution_count": 26,
   "metadata": {},
   "outputs": [],
   "source": [
    "testRatings = []\n",
    "for l in readCSV(\"test.csv\"):\n",
    "    testRatings.append(l)"
   ]
  },
  {
   "cell_type": "code",
   "execution_count": 27,
   "metadata": {},
   "outputs": [],
   "source": [
    "def getAccuracy(yPred, yTrue):\n",
    "    total = len(yPred)\n",
    "    correct = 0\n",
    "    for i in range(total):\n",
    "        if yPred[i] == yTrue[i]:\n",
    "            correct += 1\n",
    "\n",
    "    return correct / total"
   ]
  },
  {
   "cell_type": "code",
   "execution_count": 28,
   "metadata": {},
   "outputs": [],
   "source": [
    "yPred = []\n",
    "yTrue = []\n",
    "for geneA, geneB, interaction in testRatings:\n",
    "    yTrue.append(interaction)\n",
    "    if geneA in return1 or geneB in return1:\n",
    "        yPred.append(1)\n",
    "    else: yPred.append(0)"
   ]
  },
  {
   "cell_type": "code",
   "execution_count": 29,
   "metadata": {},
   "outputs": [],
   "source": [
    "acc = getAccuracy(yPred=yPred, yTrue=yTrue)"
   ]
  },
  {
   "cell_type": "code",
   "execution_count": 30,
   "metadata": {},
   "outputs": [
    {
     "data": {
      "text/plain": [
       "0.6490149164454746"
      ]
     },
     "execution_count": 30,
     "metadata": {},
     "output_type": "execute_result"
    }
   ],
   "source": [
    "acc"
   ]
  },
  {
   "cell_type": "code",
   "execution_count": 31,
   "metadata": {},
   "outputs": [],
   "source": [
    "def calcConfusionMatrix(y, yPred):\n",
    "    tnfp, fntp = confusion_matrix(y, yPred)\n",
    "    tn, fp = tnfp\n",
    "    fn, tp = fntp\n",
    "\n",
    "    # tp: number of times model predicts male correctly\n",
    "    # tn: number of times model predicts female correctly\n",
    "\n",
    "    # fp: number of times model predicts male when female\n",
    "    # fn: number of times model predicts female when male\n",
    "\n",
    "    # balanced ber rate:\n",
    "    fpRate = fp / (fp + tn) if (fp + tn) > 0 else 0\n",
    "    fnRate = fn / (fn + tp) if (fn + tp) > 0 else 0\n",
    "    ber = (fpRate + fnRate) / 2\n",
    "\n",
    "    return [tp, tn, fp, fn, ber]"
   ]
  },
  {
   "cell_type": "code",
   "execution_count": 32,
   "metadata": {},
   "outputs": [
    {
     "name": "stdout",
     "output_type": "stream",
     "text": [
      "True P: 8507\n",
      "True N: 26214\n",
      "False P: 9519\n",
      "False N: 9258\n",
      "Ber: 8507\n"
     ]
    }
   ],
   "source": [
    "tp, tn, fp, fn, ber = calcConfusionMatrix(yTrue, yPred)\n",
    "\n",
    "print(f\"True P: {tp}\")\n",
    "print(f\"True N: {tn}\")\n",
    "print(f\"False P: {fp}\")\n",
    "print(f\"False N: {fn}\")\n",
    "print(f\"Ber: {tp}\")"
   ]
  }
 ],
 "metadata": {
  "kernelspec": {
   "display_name": "Python 3",
   "language": "python",
   "name": "python3"
  },
  "language_info": {
   "codemirror_mode": {
    "name": "ipython",
    "version": 3
   },
   "file_extension": ".py",
   "mimetype": "text/x-python",
   "name": "python",
   "nbconvert_exporter": "python",
   "pygments_lexer": "ipython3",
   "version": "3.10.0"
  }
 },
 "nbformat": 4,
 "nbformat_minor": 2
}
