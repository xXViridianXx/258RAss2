{
 "cells": [
  {
   "cell_type": "code",
   "execution_count": 1,
   "metadata": {},
   "outputs": [
    {
     "name": "stderr",
     "output_type": "stream",
     "text": [
      "c:\\Users\\Edward\\anaconda3\\lib\\site-packages\\pandas\\core\\arrays\\masked.py:60: UserWarning: Pandas requires version '1.3.6' or newer of 'bottleneck' (version '1.3.5' currently installed).\n",
      "  from pandas.core import (\n"
     ]
    }
   ],
   "source": [
    "import random\n",
    "import pandas as pd\n",
    "from sklearn.model_selection import train_test_split\n"
   ]
  },
  {
   "cell_type": "code",
   "execution_count": 2,
   "metadata": {},
   "outputs": [
    {
     "data": {
      "text/html": [
       "<div>\n",
       "<style scoped>\n",
       "    .dataframe tbody tr th:only-of-type {\n",
       "        vertical-align: middle;\n",
       "    }\n",
       "\n",
       "    .dataframe tbody tr th {\n",
       "        vertical-align: top;\n",
       "    }\n",
       "\n",
       "    .dataframe thead th {\n",
       "        text-align: right;\n",
       "    }\n",
       "</style>\n",
       "<table border=\"1\" class=\"dataframe\">\n",
       "  <thead>\n",
       "    <tr style=\"text-align: right;\">\n",
       "      <th></th>\n",
       "      <th>Gene A Sequence</th>\n",
       "      <th>Gene B Sequence</th>\n",
       "      <th>Interaction Type</th>\n",
       "      <th>Detection Method</th>\n",
       "    </tr>\n",
       "  </thead>\n",
       "  <tbody>\n",
       "    <tr>\n",
       "      <th>0</th>\n",
       "      <td>MQRLKKFIAKREKGDKGKMKWNSSMDYDSPPSYQDVRRGIFPTAPL...</td>\n",
       "      <td>MSSTLAKIAEIEAEMARTQKNKATAHHLGLLKARLAKLRRELITPK...</td>\n",
       "      <td>Physical association</td>\n",
       "      <td>Two hybrid</td>\n",
       "    </tr>\n",
       "    <tr>\n",
       "      <th>1</th>\n",
       "      <td>MQRLKKFIAKREKGDKGKMKWNSSMDYDSPPSYQDVRRGIFPTAPL...</td>\n",
       "      <td>MSSTLAKIAEIEAEMARTQKNKATAHHLGLLKARLAKLRRELITPK...</td>\n",
       "      <td>Physical association</td>\n",
       "      <td>Pull down</td>\n",
       "    </tr>\n",
       "    <tr>\n",
       "      <th>2</th>\n",
       "      <td>MQRLKKFIAKREKGDKGKMKWNSSMDYDSPPSYQDVRRGIFPTAPL...</td>\n",
       "      <td>MSSTLAKIAEIEAEMARTQKNKATAHHLGLLKARLAKLRRELITPK...</td>\n",
       "      <td>Physical association</td>\n",
       "      <td>Enzyme linked immunosorbent assay</td>\n",
       "    </tr>\n",
       "    <tr>\n",
       "      <th>3</th>\n",
       "      <td>MSSTLAKIAEIEAEMARTQKNKATAHHLGLLKARLAKLRRELITPK...</td>\n",
       "      <td>MSSTLAKIAEIEAEMARTQKNKATAHHLGLLKARLAKLRRELITPK...</td>\n",
       "      <td>Direct interaction</td>\n",
       "      <td>Molecular sieving</td>\n",
       "    </tr>\n",
       "    <tr>\n",
       "      <th>4</th>\n",
       "      <td>MTAKMETTFYDDALNASFLPSESGPYGYSNPKILKQSMTLNLADPV...</td>\n",
       "      <td>MSSTLAKIAEIEAEMARTQKNKATAHHLGLLKARLAKLRRELITPK...</td>\n",
       "      <td>Association</td>\n",
       "      <td>Anti bait coimmunoprecipitation</td>\n",
       "    </tr>\n",
       "  </tbody>\n",
       "</table>\n",
       "</div>"
      ],
      "text/plain": [
       "                                     Gene A Sequence  \\\n",
       "0  MQRLKKFIAKREKGDKGKMKWNSSMDYDSPPSYQDVRRGIFPTAPL...   \n",
       "1  MQRLKKFIAKREKGDKGKMKWNSSMDYDSPPSYQDVRRGIFPTAPL...   \n",
       "2  MQRLKKFIAKREKGDKGKMKWNSSMDYDSPPSYQDVRRGIFPTAPL...   \n",
       "3  MSSTLAKIAEIEAEMARTQKNKATAHHLGLLKARLAKLRRELITPK...   \n",
       "4  MTAKMETTFYDDALNASFLPSESGPYGYSNPKILKQSMTLNLADPV...   \n",
       "\n",
       "                                     Gene B Sequence      Interaction Type  \\\n",
       "0  MSSTLAKIAEIEAEMARTQKNKATAHHLGLLKARLAKLRRELITPK...  Physical association   \n",
       "1  MSSTLAKIAEIEAEMARTQKNKATAHHLGLLKARLAKLRRELITPK...  Physical association   \n",
       "2  MSSTLAKIAEIEAEMARTQKNKATAHHLGLLKARLAKLRRELITPK...  Physical association   \n",
       "3  MSSTLAKIAEIEAEMARTQKNKATAHHLGLLKARLAKLRRELITPK...    Direct interaction   \n",
       "4  MSSTLAKIAEIEAEMARTQKNKATAHHLGLLKARLAKLRRELITPK...           Association   \n",
       "\n",
       "                    Detection Method  \n",
       "0                         Two hybrid  \n",
       "1                          Pull down  \n",
       "2  Enzyme linked immunosorbent assay  \n",
       "3                  Molecular sieving  \n",
       "4    Anti bait coimmunoprecipitation  "
      ]
     },
     "execution_count": 2,
     "metadata": {},
     "output_type": "execute_result"
    }
   ],
   "source": [
    "df = pd.read_csv('protein_data.csv')\n",
    "df.drop('Unnamed: 0', axis=1, inplace=True)\n",
    "df.head()"
   ]
  },
  {
   "cell_type": "code",
   "execution_count": 3,
   "metadata": {},
   "outputs": [
    {
     "data": {
      "text/plain": [
       "(100947, 4)"
      ]
     },
     "execution_count": 3,
     "metadata": {},
     "output_type": "execute_result"
    }
   ],
   "source": [
    "df.shape"
   ]
  },
  {
   "cell_type": "code",
   "execution_count": 4,
   "metadata": {},
   "outputs": [],
   "source": [
    "# removing nan\n",
    "df = df.dropna()"
   ]
  },
  {
   "cell_type": "code",
   "execution_count": 5,
   "metadata": {},
   "outputs": [
    {
     "data": {
      "text/plain": [
       "(99860, 4)"
      ]
     },
     "execution_count": 5,
     "metadata": {},
     "output_type": "execute_result"
    }
   ],
   "source": [
    "df.shape"
   ]
  },
  {
   "cell_type": "code",
   "execution_count": 6,
   "metadata": {},
   "outputs": [],
   "source": [
    "counts = {}\n",
    "mapping = {}\n",
    "allData = []\n",
    "\n",
    "check = set()\n",
    "for index, row in df.iterrows():\n",
    "    aSeq = row['Gene A Sequence']\n",
    "    bSeq = row['Gene B Sequence']\n",
    "\n",
    "    counts[aSeq] = counts.get(aSeq, 0) + 1\n",
    "    counts[bSeq] = counts.get(bSeq, 0) + 1\n",
    "\n",
    "    if aSeq in mapping:\n",
    "        mapping[aSeq].add(bSeq)\n",
    "    else:\n",
    "        mapping[aSeq] = {bSeq}\n",
    "\n",
    "    if bSeq in mapping:\n",
    "        mapping[bSeq].add(aSeq)\n",
    "    else:\n",
    "        mapping[bSeq] = {aSeq}\n",
    "    \n",
    "    data = (aSeq, bSeq, 1)\n",
    "    \n",
    "    if data in check: continue\n",
    "    \n",
    "    check.add(data)\n",
    "    allData.append(data)"
   ]
  },
  {
   "cell_type": "code",
   "execution_count": 7,
   "metadata": {},
   "outputs": [],
   "source": [
    "allGenes = set(df[\"Gene A Sequence\"]).union(set(df[\"Gene B Sequence\"]))"
   ]
  },
  {
   "cell_type": "code",
   "execution_count": 8,
   "metadata": {},
   "outputs": [],
   "source": [
    "def getAllGenesInteracted(gene):\n",
    "  return mapping[gene]\n"
   ]
  },
  {
   "cell_type": "code",
   "execution_count": 9,
   "metadata": {},
   "outputs": [],
   "source": [
    "def getAllGenesNotInteracted(gene):\n",
    "  genesInteracted = getAllGenesInteracted(gene)\n",
    "  return allGenes - genesInteracted"
   ]
  },
  {
   "cell_type": "code",
   "execution_count": 10,
   "metadata": {},
   "outputs": [],
   "source": [
    "negativeSamples = []"
   ]
  },
  {
   "cell_type": "code",
   "execution_count": null,
   "metadata": {},
   "outputs": [],
   "source": [
    "# takes around 4 minutes to negative sample\n",
    "from collections import defaultdict\n",
    "\n",
    "gene_ctr = defaultdict(int)\n",
    "\n",
    "for geneA, geneB, _ in allData:\n",
    "\n",
    "  genesNotInteractedA = getAllGenesNotInteracted(geneA)\n",
    "  genesNotInteractedB = getAllGenesNotInteracted(geneB)\n",
    "  \n",
    "  geneA_idx = gene_ctr[geneA]\n",
    "  geneB_idx = gene_ctr[geneB]\n",
    "  \n",
    "  randomGeneA = list(genesNotInteractedA)[geneA_idx]\n",
    "  randomGeneB = list(genesNotInteractedB)[geneB_idx]\n",
    "\n",
    "  negativeSampleA = (geneA, randomGeneA, 0)\n",
    "  negativeSampleB = (geneB, randomGeneB, 0)\n",
    "  \n",
    "  gene_ctr[geneA] = (gene_ctr[geneA]+1)%len(genesNotInteractedA)\n",
    "  gene_ctr[geneB] = (gene_ctr[geneB]+1)%len(genesNotInteractedB)\n",
    "  \n",
    "  negativeSamples.append(negativeSampleA)\n",
    "  negativeSamples.append(negativeSampleB)\n"
   ]
  },
  {
   "cell_type": "code",
   "execution_count": 12,
   "metadata": {},
   "outputs": [
    {
     "data": {
      "text/plain": [
       "89163"
      ]
     },
     "execution_count": 12,
     "metadata": {},
     "output_type": "execute_result"
    }
   ],
   "source": [
    "len(allData)"
   ]
  },
  {
   "cell_type": "code",
   "execution_count": 13,
   "metadata": {},
   "outputs": [],
   "source": [
    "allData = allData + negativeSamples"
   ]
  },
  {
   "cell_type": "code",
   "execution_count": 14,
   "metadata": {},
   "outputs": [],
   "source": [
    "df = pd.DataFrame(allData, columns=[\"GeneA\", \"GeneB\", \"Interaction\"])\n",
    "\n"
   ]
  },
  {
   "cell_type": "code",
   "execution_count": 15,
   "metadata": {},
   "outputs": [
    {
     "data": {
      "text/plain": [
       "(267489, 3)"
      ]
     },
     "execution_count": 15,
     "metadata": {},
     "output_type": "execute_result"
    }
   ],
   "source": [
    "df.shape"
   ]
  },
  {
   "cell_type": "code",
   "execution_count": 16,
   "metadata": {},
   "outputs": [],
   "source": [
    "train, test = train_test_split(df, test_size=0.2, random_state=42)"
   ]
  },
  {
   "cell_type": "code",
   "execution_count": 17,
   "metadata": {},
   "outputs": [],
   "source": [
    "dfTrain = pd.DataFrame(train, columns=[\"GeneA\", \"GeneB\", \"Interaction\"])\n",
    "dfTest = pd.DataFrame(test, columns=[\"GeneA\", \"GeneB\", \"Interaction\"])\n",
    "\n",
    "dfTrain.to_csv('train.csv', index=False)\n",
    "dfTest.to_csv('test.csv', index=False)"
   ]
  }
 ],
 "metadata": {
  "kernelspec": {
   "display_name": "base",
   "language": "python",
   "name": "python3"
  },
  "language_info": {
   "codemirror_mode": {
    "name": "ipython",
    "version": 3
   },
   "file_extension": ".py",
   "mimetype": "text/x-python",
   "name": "python",
   "nbconvert_exporter": "python",
   "pygments_lexer": "ipython3",
   "version": "3.10.12"
  }
 },
 "nbformat": 4,
 "nbformat_minor": 2
}
