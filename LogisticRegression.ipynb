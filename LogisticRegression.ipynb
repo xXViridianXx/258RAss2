{
 "cells": [
  {
   "cell_type": "code",
   "execution_count": 2,
   "metadata": {},
   "outputs": [],
   "source": [
    "import warnings\n",
    "warnings.filterwarnings(\"ignore\")"
   ]
  },
  {
   "cell_type": "code",
   "execution_count": 3,
   "metadata": {},
   "outputs": [],
   "source": [
    "import pandas as pd\n",
    "import numpy as np\n",
    "import warnings\n",
    "import tensorflow as tf\n",
    "from sklearn.feature_extraction.text import TfidfVectorizer\n",
    "from sklearn.ensemble import RandomForestClassifier\n",
    "from sklearn.metrics import classification_report"
   ]
  },
  {
   "cell_type": "code",
   "execution_count": 4,
   "metadata": {},
   "outputs": [],
   "source": [
    "dfTrain = pd.read_csv('train.csv')\n",
    "dfTest = pd.read_csv('test.csv')"
   ]
  },
  {
   "cell_type": "code",
   "execution_count": 5,
   "metadata": {},
   "outputs": [],
   "source": [
    "tfidf = TfidfVectorizer(max_features=50, analyzer='char', ngram_range=(3, 3))  "
   ]
  },
  {
   "cell_type": "code",
   "execution_count": 6,
   "metadata": {},
   "outputs": [],
   "source": [
    "gene1_vec_train = tfidf.fit_transform(dfTrain[\"GeneA\"])\n",
    "gene2_vec_train = tfidf.transform(dfTrain[\"GeneB\"])"
   ]
  },
  {
   "cell_type": "code",
   "execution_count": 7,
   "metadata": {},
   "outputs": [],
   "source": [
    "X = np.hstack([gene1_vec_train.toarray(), gene2_vec_train.toarray()])\n",
    "y = dfTrain[\"Interaction\"]"
   ]
  },
  {
   "cell_type": "code",
   "execution_count": 8,
   "metadata": {},
   "outputs": [
    {
     "data": {
      "text/plain": [
       "(213991, 100)"
      ]
     },
     "execution_count": 8,
     "metadata": {},
     "output_type": "execute_result"
    }
   ],
   "source": [
    "X.shape"
   ]
  },
  {
   "cell_type": "code",
   "execution_count": 9,
   "metadata": {},
   "outputs": [
    {
     "data": {
      "text/plain": [
       "0         0\n",
       "1         0\n",
       "2         0\n",
       "3         1\n",
       "4         1\n",
       "         ..\n",
       "213986    0\n",
       "213987    0\n",
       "213988    0\n",
       "213989    0\n",
       "213990    0\n",
       "Name: Interaction, Length: 213991, dtype: int64"
      ]
     },
     "execution_count": 9,
     "metadata": {},
     "output_type": "execute_result"
    }
   ],
   "source": [
    "y"
   ]
  },
  {
   "cell_type": "code",
   "execution_count": 10,
   "metadata": {},
   "outputs": [],
   "source": [
    "gene1_vec_test = tfidf.fit_transform(dfTest[\"GeneA\"])\n",
    "gene2_vec_test = tfidf.transform(dfTest[\"GeneB\"])"
   ]
  },
  {
   "cell_type": "code",
   "execution_count": 11,
   "metadata": {},
   "outputs": [],
   "source": [
    "X_test = np.hstack([gene1_vec_test.toarray(), gene2_vec_test.toarray()])\n",
    "y_test = dfTest[\"Interaction\"]"
   ]
  },
  {
   "cell_type": "code",
   "execution_count": 12,
   "metadata": {},
   "outputs": [
    {
     "data": {
      "text/plain": [
       "(53498, 100)"
      ]
     },
     "execution_count": 12,
     "metadata": {},
     "output_type": "execute_result"
    }
   ],
   "source": [
    "X_test.shape"
   ]
  },
  {
   "cell_type": "code",
   "execution_count": 13,
   "metadata": {},
   "outputs": [
    {
     "name": "stdout",
     "output_type": "stream",
     "text": [
      "Classification Report:\n",
      "              precision    recall  f1-score   support\n",
      "\n",
      "           0       0.80      0.87      0.83     35733\n",
      "           1       0.68      0.56      0.62     17765\n",
      "\n",
      "    accuracy                           0.77     53498\n",
      "   macro avg       0.74      0.72      0.72     53498\n",
      "weighted avg       0.76      0.77      0.76     53498\n",
      "\n"
     ]
    }
   ],
   "source": [
    "from sklearn.linear_model import LogisticRegression\n",
    "from sklearn.metrics import confusion_matrix\n",
    "\n",
    "lr_classifier = LogisticRegression(\n",
    "    max_iter=2000,          \n",
    "    C=1.0,\n",
    "    solver='saga',\n",
    "    random_state=42                  \n",
    ")\n",
    "\n",
    "lr_classifier.fit(X, y)\n",
    "\n",
    "# Make predictions\n",
    "y_pred = lr_classifier.predict(X_test)\n",
    "\n",
    "# Evaluate the model\n",
    "print(\"Classification Report:\")\n",
    "print(classification_report(y_test, y_pred))"
   ]
  },
  {
   "cell_type": "code",
   "execution_count": 14,
   "metadata": {},
   "outputs": [],
   "source": [
    "def calcConfusionMatrix(y, yPred):\n",
    "    tnfp, fntp = confusion_matrix(y, yPred)\n",
    "    tn, fp = tnfp\n",
    "    fn, tp = fntp\n",
    "\n",
    "    # tp: number of times model predicts male correctly\n",
    "    # tn: number of times model predicts female correctly\n",
    "\n",
    "    # fp: number of times model predicts male when female\n",
    "    # fn: number of times model predicts female when male\n",
    "\n",
    "    # balanced ber rate:\n",
    "    fpRate = fp / (fp + tn) if (fp + tn) > 0 else 0\n",
    "    fnRate = fn / (fn + tp) if (fn + tp) > 0 else 0\n",
    "    ber = (fpRate + fnRate) / 2\n",
    "\n",
    "    return [tp, tn, fp, fn, ber]"
   ]
  },
  {
   "cell_type": "code",
   "execution_count": 16,
   "metadata": {},
   "outputs": [
    {
     "name": "stdout",
     "output_type": "stream",
     "text": [
      "True P: 9969\n",
      "True N: 31084\n",
      "False P: 4649\n",
      "False N: 7796\n",
      "Ber: 0.28447212107239145\n"
     ]
    }
   ],
   "source": [
    "tp, tn, fp, fn, ber = calcConfusionMatrix(y_test, y_pred)\n",
    "\n",
    "print(f\"True P: {tp}\")\n",
    "print(f\"True N: {tn}\")\n",
    "print(f\"False P: {fp}\")\n",
    "print(f\"False N: {fn}\")\n",
    "print(f\"Ber: {ber}\")"
   ]
  },
  {
   "cell_type": "code",
   "execution_count": null,
   "metadata": {},
   "outputs": [],
   "source": []
  }
 ],
 "metadata": {
  "kernelspec": {
   "display_name": "base",
   "language": "python",
   "name": "python3"
  },
  "language_info": {
   "codemirror_mode": {
    "name": "ipython",
    "version": 3
   },
   "file_extension": ".py",
   "mimetype": "text/x-python",
   "name": "python",
   "nbconvert_exporter": "python",
   "pygments_lexer": "ipython3",
   "version": "3.10.12"
  }
 },
 "nbformat": 4,
 "nbformat_minor": 2
}
