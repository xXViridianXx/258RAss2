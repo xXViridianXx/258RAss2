{
 "cells": [
  {
   "cell_type": "code",
   "execution_count": 1,
   "metadata": {},
   "outputs": [],
   "source": [
    "import gzip\n",
    "from collections import defaultdict\n",
    "import math\n",
    "import scipy.optimize\n",
    "from sklearn import svm\n",
    "import numpy\n",
    "import string\n",
    "import random\n",
    "from sklearn import linear_model\n",
    "import pandas as pd\n",
    "import numpy as np\n",
    "from sklearn.metrics import mean_squared_error"
   ]
  },
  {
   "cell_type": "code",
   "execution_count": 2,
   "metadata": {},
   "outputs": [],
   "source": [
    "def readCSV(path):\n",
    "    with open(path, 'r') as f:\n",
    "        f.readline()\n",
    "        for l in f:\n",
    "            a, b, i = l.strip().split(',')\n",
    "            i = int(i)\n",
    "            yield a, b, i"
   ]
  },
  {
   "cell_type": "code",
   "execution_count": 3,
   "metadata": {},
   "outputs": [],
   "source": [
    "train = []\n",
    "for l in readCSV(\"train.csv\"):\n",
    "    train.append(l)"
   ]
  },
  {
   "cell_type": "code",
   "execution_count": 4,
   "metadata": {},
   "outputs": [],
   "source": [
    "geneCount = defaultdict(int)\n",
    "totalInteractions = 0\n",
    "\n",
    "for geneA, geneB, interaction in readCSV(\"train.csv\"):\n",
    "    if interaction == 0: continue\n",
    "    geneCount[geneA] += 1\n",
    "    geneCount[geneB] += 1\n",
    "    totalInteractions += 1\n",
    "\n",
    "mostPopular = [(geneCount[x], x) for x in geneCount]\n",
    "mostPopular.sort()\n",
    "mostPopular.reverse()\n",
    "\n",
    "return1 = set()\n",
    "count = 0\n",
    "for ic, i in mostPopular:\n",
    "    count += ic\n",
    "    return1.add(i)\n",
    "    if count > totalInteractions/2:\n",
    "        break"
   ]
  },
  {
   "cell_type": "code",
   "execution_count": 5,
   "metadata": {},
   "outputs": [],
   "source": [
    "test = []\n",
    "for l in readCSV(\"test.csv\"):\n",
    "    test.append(l)"
   ]
  },
  {
   "cell_type": "code",
   "execution_count": 6,
   "metadata": {},
   "outputs": [],
   "source": [
    "def getAccuracy(yPred, yTrue):\n",
    "    total = len(yPred)\n",
    "    correct = 0\n",
    "    for i in range(total):\n",
    "        if yPred[i] == yTrue[i]:\n",
    "            correct += 1\n",
    "\n",
    "    return correct / total"
   ]
  },
  {
   "cell_type": "code",
   "execution_count": 7,
   "metadata": {},
   "outputs": [],
   "source": [
    "counts = {}\n",
    "mapping = {}\n",
    "\n",
    "for geneA, geneB, interaction in train:\n",
    "\n",
    "    counts[geneA] = counts.get(geneA, 0) + 1\n",
    "    counts[geneB] = counts.get(geneB, 0) + 1\n",
    "\n",
    "    if geneA in mapping:\n",
    "\n",
    "        if interaction == 1:\n",
    "            mapping[geneA].add(geneB)\n",
    "    else:\n",
    "        if interaction == 1:\n",
    "            mapping[geneA] = {geneB}\n",
    "\n",
    "    if geneB in mapping:\n",
    "        if interaction == 1:\n",
    "            mapping[geneB].add(geneA)\n",
    "    else:\n",
    "        if interaction == 1:\n",
    "            mapping[geneB] = {geneA}"
   ]
  },
  {
   "cell_type": "code",
   "execution_count": 8,
   "metadata": {},
   "outputs": [],
   "source": [
    "def getGenesInteractedWith(gene):\n",
    "  genes = set()\n",
    "  if gene in mapping: genes = mapping[gene]\n",
    "  return genes"
   ]
  },
  {
   "cell_type": "code",
   "execution_count": 9,
   "metadata": {},
   "outputs": [],
   "source": [
    "def Jaccard(geneA, geneB):\n",
    "\n",
    "    if geneA not in mapping or geneB not in mapping:\n",
    "        return 0\n",
    "\n",
    "    set1 = mapping[geneA]\n",
    "    set2 = mapping[geneB]\n",
    "\n",
    "    # Calculate Jaccard similarity\n",
    "    numer = len(set1.intersection(set2))\n",
    "    denom = len(set1.union(set2))\n",
    "    return numer / denom if denom > 0 else 0"
   ]
  },
  {
   "cell_type": "code",
   "execution_count": 10,
   "metadata": {},
   "outputs": [],
   "source": [
    "yTrue = []\n",
    "for geneA, geneB, interaction in test:\n",
    "    yTrue.append(interaction)"
   ]
  },
  {
   "cell_type": "code",
   "execution_count": 11,
   "metadata": {},
   "outputs": [],
   "source": [
    "def maxJaccard(threshold):\n",
    "    totalPredictions = len(test)\n",
    "    correct = 0\n",
    "    for geneA, geneB, interaction in test:\n",
    "\n",
    "        genesInteractedWith = getGenesInteractedWith(geneA)\n",
    "        maxJaccard = 0\n",
    "\n",
    "        # Calculate maximum Jaccard similarity for books user read\n",
    "        for gene in genesInteractedWith:\n",
    "            if gene == geneB: continue\n",
    "            jacc = Jaccard(gene, geneB)\n",
    "            maxJaccard = max(jacc, maxJaccard)\n",
    "\n",
    "        # Predict read if max Jaccard exceeds threshold\n",
    "        # print(maxJaccard)\n",
    "        predicted = maxJaccard > threshold\n",
    "        correct += (predicted == interaction)\n",
    "    # Calculate and return accuracy\n",
    "    return correct / totalPredictions\n"
   ]
  },
  {
   "cell_type": "code",
   "execution_count": 12,
   "metadata": {},
   "outputs": [
    {
     "name": "stdout",
     "output_type": "stream",
     "text": [
      "Threshold 0.1 -> Accuracy: 0.83\n",
      "Threshold 0.2 -> Accuracy: 0.78\n",
      "Threshold 0.3 -> Accuracy: 0.73\n",
      "Threshold 0.4 -> Accuracy: 0.70\n",
      "Threshold 0.5 -> Accuracy: 0.68\n",
      "Best accuracy: 0.83\n"
     ]
    }
   ],
   "source": [
    "bestAccuracy = float(\"-inf\")\n",
    "thresholds = [.1, .2, .3, .4, .5]\n",
    "for threshold in thresholds:\n",
    "    accuracy = maxJaccard(threshold)\n",
    "    print(f\"Threshold {threshold} -> Accuracy: {accuracy:.2f}\")\n",
    "    \n",
    "    bestAccuracy = max(bestAccuracy, accuracy)\n",
    "\n",
    "print(f\"Best accuracy: {bestAccuracy:.2f}\")"
   ]
  },
  {
   "cell_type": "code",
   "execution_count": null,
   "metadata": {},
   "outputs": [],
   "source": []
  }
 ],
 "metadata": {
  "kernelspec": {
   "display_name": "base",
   "language": "python",
   "name": "python3"
  },
  "language_info": {
   "codemirror_mode": {
    "name": "ipython",
    "version": 3
   },
   "file_extension": ".py",
   "mimetype": "text/x-python",
   "name": "python",
   "nbconvert_exporter": "python",
   "pygments_lexer": "ipython3",
   "version": "3.10.12"
  }
 },
 "nbformat": 4,
 "nbformat_minor": 2
}
